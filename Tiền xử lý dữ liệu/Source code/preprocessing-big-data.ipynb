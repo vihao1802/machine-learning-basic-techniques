{
 "cells": [
  {
   "cell_type": "markdown",
   "metadata": {},
   "source": [
    "Import library"
   ]
  },
  {
   "cell_type": "markdown",
   "metadata": {},
   "source": [
    "## Non sklearn"
   ]
  },
  {
   "cell_type": "code",
   "execution_count": null,
   "metadata": {},
   "outputs": [],
   "source": [
    "import numpy as np\n",
    "import pandas as pd\n",
    "import time"
   ]
  },
  {
   "cell_type": "code",
   "execution_count": null,
   "metadata": {},
   "outputs": [],
   "source": [
    "# Đặt cấu hình hiển thị\n",
    "np.set_printoptions(suppress=True, formatter={'float_kind': '{:.2f}'.format})\n"
   ]
  },
  {
   "cell_type": "markdown",
   "metadata": {},
   "source": [
    "Read dataset"
   ]
  },
  {
   "cell_type": "code",
   "execution_count": null,
   "metadata": {},
   "outputs": [],
   "source": [
    "#read dataset to dataframe\n",
    "df = pd.read_csv('default of credit card clients.csv').drop('ID', axis=1)\n",
    "df"
   ]
  },
  {
   "cell_type": "markdown",
   "metadata": {},
   "source": [
    "Data Normalization"
   ]
  },
  {
   "cell_type": "code",
   "execution_count": null,
   "metadata": {},
   "outputs": [],
   "source": [
    "df_numeric = df.copy()\n",
    "df_numeric[['LIMIT_BAL', 'BILL_AMT1', 'BILL_AMT2','BILL_AMT3','BILL_AMT4','BILL_AMT5','BILL_AMT6','PAY_AMT1','PAY_AMT2','PAY_AMT3','PAY_AMT4','PAY_AMT5','PAY_AMT6']] = df_numeric[['LIMIT_BAL', 'BILL_AMT1', 'BILL_AMT2','BILL_AMT3','BILL_AMT4','BILL_AMT5','BILL_AMT6','PAY_AMT1','PAY_AMT2','PAY_AMT3','PAY_AMT4','PAY_AMT5','PAY_AMT6']].apply(pd.to_numeric, errors='coerce')\n",
    "df_numeric = df_numeric.replace('?', np.nan).dropna()"
   ]
  },
  {
   "cell_type": "markdown",
   "metadata": {},
   "source": [
    "### chuẩn hóa minmax"
   ]
  },
  {
   "cell_type": "code",
   "execution_count": null,
   "metadata": {},
   "outputs": [],
   "source": [
    "df_clean = df_numeric.copy()"
   ]
  },
  {
   "cell_type": "code",
   "execution_count": null,
   "metadata": {},
   "outputs": [],
   "source": [
    "df_clean.select_dtypes(include=[np.number])"
   ]
  },
  {
   "cell_type": "code",
   "execution_count": null,
   "metadata": {},
   "outputs": [],
   "source": [
    "# Calculate variance of each column\n",
    "variance_array_before = df_clean.select_dtypes(include=[np.number]).var(ddof=1).values\n",
    "variance_array_before"
   ]
  },
  {
   "cell_type": "code",
   "execution_count": null,
   "metadata": {},
   "outputs": [],
   "source": [
    "# normalize min-max\n",
    "time_start_minmax = time.time()\n",
    "for i in df_clean.select_dtypes(include=[np.number]).columns:\n",
    "    df_clean[i] = (df_clean[i] - df_clean[i].min()) * 100 / (df_clean[i].max() - df_clean[i].min())\n",
    "time_end_minmax = time.time()"
   ]
  },
  {
   "cell_type": "code",
   "execution_count": null,
   "metadata": {},
   "outputs": [],
   "source": [
    "df_clean.select_dtypes(include=[np.number])"
   ]
  },
  {
   "cell_type": "code",
   "execution_count": null,
   "metadata": {},
   "outputs": [],
   "source": [
    "# Calculate variance of each column\n",
    "variance_array_after = df_clean.select_dtypes(include=[np.number]).var(ddof=0).values\n",
    "variance_array_after"
   ]
  },
  {
   "cell_type": "markdown",
   "metadata": {},
   "source": [
    "### chuẩn hóa z-score"
   ]
  },
  {
   "cell_type": "code",
   "execution_count": null,
   "metadata": {},
   "outputs": [],
   "source": [
    "df_clean_zscore = df_numeric.replace('?', np.nan).dropna()"
   ]
  },
  {
   "cell_type": "code",
   "execution_count": null,
   "metadata": {},
   "outputs": [],
   "source": [
    "df_clean_zscore.select_dtypes(include=[np.number])"
   ]
  },
  {
   "cell_type": "code",
   "execution_count": null,
   "metadata": {},
   "outputs": [],
   "source": [
    "# Tính trung bình và độ lệch chuẩn cho từng cột\n",
    "time_start_zscore = time.time()\n",
    "df_clean_zscore = ( df_clean_zscore.select_dtypes(include=[np.number]) -  df_clean_zscore.select_dtypes(include=[np.number]).mean()) /  df_clean_zscore.select_dtypes(include=[np.number]).std()\n",
    "time_end_zscore = time.time()"
   ]
  },
  {
   "cell_type": "code",
   "execution_count": null,
   "metadata": {},
   "outputs": [],
   "source": [
    "df_clean_zscore.select_dtypes(include=[np.number])"
   ]
  },
  {
   "cell_type": "markdown",
   "metadata": {},
   "source": [
    "## SKLEARN"
   ]
  },
  {
   "cell_type": "code",
   "execution_count": null,
   "metadata": {},
   "outputs": [],
   "source": [
    "from sklearn.preprocessing import MinMaxScaler,StandardScaler\n",
    "import numpy as np\n",
    "import pandas as pd"
   ]
  },
  {
   "cell_type": "code",
   "execution_count": null,
   "metadata": {},
   "outputs": [],
   "source": [
    "df_numeric_sklearn = df.copy()\n",
    "df_numeric_sklearn[['LIMIT_BAL', 'BILL_AMT1', 'BILL_AMT2','BILL_AMT3','BILL_AMT4','BILL_AMT5','BILL_AMT6','PAY_AMT1','PAY_AMT2','PAY_AMT3','PAY_AMT4','PAY_AMT5','PAY_AMT6']] = df_numeric_sklearn[['LIMIT_BAL', 'BILL_AMT1', 'BILL_AMT2','BILL_AMT3','BILL_AMT4','BILL_AMT5','BILL_AMT6','PAY_AMT1','PAY_AMT2','PAY_AMT3','PAY_AMT4','PAY_AMT5','PAY_AMT6']].apply(pd.to_numeric, errors='coerce')\n",
    "df_numeric_sklearn"
   ]
  },
  {
   "cell_type": "markdown",
   "metadata": {},
   "source": [
    "### chuẩn hóa min max dùng sklearn"
   ]
  },
  {
   "cell_type": "code",
   "execution_count": null,
   "metadata": {},
   "outputs": [],
   "source": [
    "df_clean_sklearn = df_numeric_sklearn.replace('?', np.nan).dropna()"
   ]
  },
  {
   "cell_type": "code",
   "execution_count": null,
   "metadata": {},
   "outputs": [],
   "source": [
    "scaler = MinMaxScaler(feature_range=(0, 100))"
   ]
  },
  {
   "cell_type": "code",
   "execution_count": null,
   "metadata": {},
   "outputs": [],
   "source": [
    "# minmax\n",
    "time_start_minmax_library = time.time()\n",
    "df_clean_sklearn =pd.DataFrame(scaler.fit_transform(df_clean_sklearn.select_dtypes(include=[np.number])),columns=['LIMIT_BAL', 'BILL_AMT1', 'BILL_AMT2','BILL_AMT3','BILL_AMT4','BILL_AMT5','BILL_AMT6','PAY_AMT1','PAY_AMT2','PAY_AMT3','PAY_AMT4','PAY_AMT5','PAY_AMT6'])\n",
    "time_end_minmax_library = time.time()"
   ]
  },
  {
   "cell_type": "code",
   "execution_count": null,
   "metadata": {},
   "outputs": [],
   "source": [
    "df_clean_sklearn"
   ]
  },
  {
   "cell_type": "code",
   "execution_count": null,
   "metadata": {},
   "outputs": [],
   "source": [
    "# Calculate variance of each column\n",
    "variance_array_library = df_clean_sklearn.select_dtypes(include=[np.number]).var(ddof=0).values\n",
    "variance_array_library"
   ]
  },
  {
   "cell_type": "markdown",
   "metadata": {},
   "source": [
    "### chuẩn hóa z-score dùng sklearn"
   ]
  },
  {
   "cell_type": "code",
   "execution_count": null,
   "metadata": {},
   "outputs": [],
   "source": [
    "df_clean_zscore_sklearn = df_numeric_sklearn.replace('?', np.nan).dropna()"
   ]
  },
  {
   "cell_type": "code",
   "execution_count": null,
   "metadata": {},
   "outputs": [],
   "source": [
    "scaler_zscore = StandardScaler()"
   ]
  },
  {
   "cell_type": "code",
   "execution_count": null,
   "metadata": {},
   "outputs": [],
   "source": [
    "#zscore\n",
    "time_start_zscore_library = time.time()\n",
    "df_clean_zscore_sklearn = pd.DataFrame(scaler_zscore.fit_transform(df_clean_zscore_sklearn.select_dtypes(include=[np.number])),columns=['LIMIT_BAL', 'BILL_AMT1', 'BILL_AMT2','BILL_AMT3','BILL_AMT4','BILL_AMT5','BILL_AMT6','PAY_AMT1','PAY_AMT2','PAY_AMT3','PAY_AMT4','PAY_AMT5','PAY_AMT6'])\n",
    "time_end_zscore_library = time.time()"
   ]
  },
  {
   "cell_type": "code",
   "execution_count": null,
   "metadata": {},
   "outputs": [],
   "source": [
    "df_clean_zscore_sklearn"
   ]
  },
  {
   "cell_type": "markdown",
   "metadata": {},
   "source": [
    "### Tổng kết"
   ]
  },
  {
   "cell_type": "code",
   "execution_count": null,
   "metadata": {},
   "outputs": [],
   "source": [
    "time_exe_minmax = time_end_minmax - time_start_minmax\n",
    "time_library_exe_minmax = time_end_minmax_library - time_start_minmax_library\n",
    "print(\"--Chuẩn hóa min max--\")\n",
    "print(f\"Thời gian thuật toán tự triển khai \\t\",time_exe_minmax)\n",
    "print(f\"Thời gian thuật toán của sklearn\\t\",time_library_exe_minmax)\n",
    "\n",
    "time_exe_zscore = time_end_zscore - time_start_zscore\n",
    "time_library_exe_zscore = time_end_zscore_library - time_start_zscore_library\n",
    "print(\"--Chuẩn hóa z score--\")\n",
    "print(f\"Thời gian thuật toán tự triển khai\\t\",time_exe_zscore)\n",
    "print(f\"Thời gian thuật toán của sklearn\\t\",time_library_exe_zscore)\n",
    "\n",
    "print(f\"Phương sai trước khi chuẩn hóa min max:\\n\",variance_array_before)\n",
    "print(f\"Phương sai sau khi chuẩn hóa MinMax:\\n\",variance_array_after)  \n",
    "print(f\"Phương sai sau khi chuẩn hóa MinMax bằng sklearn:\\n\",variance_array_library)   "
   ]
  },
  {
   "cell_type": "markdown",
   "metadata": {},
   "source": [
    "### vẽ đồ thị so sánh"
   ]
  },
  {
   "cell_type": "code",
   "execution_count": null,
   "metadata": {},
   "outputs": [],
   "source": [
    "import matplotlib.pyplot as plt"
   ]
  },
  {
   "cell_type": "code",
   "execution_count": null,
   "metadata": {},
   "outputs": [],
   "source": [
    "# Vẽ biểu đồ so sánh thời gian của min max\n",
    "plt.figure(figsize=(8, 6))\n",
    "plt.bar(['Manual Min-Max', 'Sklearn Min-Max'], [time_exe_minmax, time_library_exe_minmax], color=['blue', 'green'])\n",
    "plt.xlabel('Method')\n",
    "plt.ylabel('Execution Time (seconds)')\n",
    "plt.title('Comparison of Execution Time for Min-Max Scaling')\n",
    "plt.show()"
   ]
  },
  {
   "cell_type": "code",
   "execution_count": null,
   "metadata": {},
   "outputs": [],
   "source": [
    "# Vẽ biểu đồ so sánh thời gian của zscore\n",
    "plt.figure(figsize=(8, 6))\n",
    "plt.bar(['Manual Min-Max', 'Sklearn Min-Max'], [time_exe_zscore, time_library_exe_zscore], color=['blue', 'green'])\n",
    "plt.xlabel('Method')\n",
    "plt.ylabel('Execution Time (seconds)')\n",
    "plt.title('Comparison of Execution Time for Min-Max Scaling')\n",
    "plt.show()"
   ]
  }
 ],
 "metadata": {
  "kernelspec": {
   "display_name": ".venv",
   "language": "python",
   "name": "python3"
  },
  "language_info": {
   "codemirror_mode": {
    "name": "ipython",
    "version": 3
   },
   "file_extension": ".py",
   "mimetype": "text/x-python",
   "name": "python",
   "nbconvert_exporter": "python",
   "pygments_lexer": "ipython3",
   "version": "3.12.6"
  }
 },
 "nbformat": 4,
 "nbformat_minor": 2
}
