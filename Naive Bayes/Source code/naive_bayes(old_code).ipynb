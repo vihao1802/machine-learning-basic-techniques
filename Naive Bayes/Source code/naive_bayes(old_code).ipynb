{
 "cells": [
  {
   "cell_type": "markdown",
   "metadata": {
    "id": "J_XVdFUat7v1"
   },
   "source": [
    "### Import thư viện"
   ]
  },
  {
   "cell_type": "code",
   "execution_count": 6,
   "metadata": {
    "executionInfo": {
     "elapsed": 1265,
     "status": "ok",
     "timestamp": 1730883896486,
     "user": {
      "displayName": "Trần Vĩ Hào",
      "userId": "07345780700179417514"
     },
     "user_tz": -420
    },
    "id": "lfU6RUmlt7v4"
   },
   "outputs": [],
   "source": [
    "import numpy as np\n",
    "import pandas as pd\n",
    "import time\n",
    "from sklearn.metrics import accuracy_score, confusion_matrix, classification_report"
   ]
  },
  {
   "cell_type": "markdown",
   "metadata": {
    "id": "k-mFasOCt7v6"
   },
   "source": [
    "### Đọc dữ liệu từ file"
   ]
  },
  {
   "cell_type": "code",
   "execution_count": 7,
   "metadata": {
    "colab": {
     "base_uri": "https://localhost:8080/",
     "height": 388
    },
    "executionInfo": {
     "elapsed": 327,
     "status": "error",
     "timestamp": 1730883956233,
     "user": {
      "displayName": "Trần Vĩ Hào",
      "userId": "07345780700179417514"
     },
     "user_tz": -420
    },
    "id": "PxLSGVYTt7v6",
    "outputId": "b9655209-5adc-45fd-f6a1-2227bdab3ec6"
   },
   "outputs": [],
   "source": [
    "X_train = pd.read_csv(\"./2a/X_train_2a.csv\")\n",
    "Y_train = pd.read_csv(\"./2a/Y_train_2a.csv\")\n",
    "X_test = pd.read_csv(\"./2a/X_test_2a.csv\")\n",
    "\n",
    "X_train = X_train[['Size', 'Number', 'Thickness']]\n",
    "Y_train = Y_train['Lung Cancer']\n",
    "X_test = X_test[['Size', 'Number', 'Thickness']]"
   ]
  },
  {
   "cell_type": "code",
   "execution_count": 8,
   "metadata": {
    "executionInfo": {
     "elapsed": 7,
     "status": "aborted",
     "timestamp": 1730883896835,
     "user": {
      "displayName": "Trần Vĩ Hào",
      "userId": "07345780700179417514"
     },
     "user_tz": -420
    },
    "id": "Yok4D5Set7v7"
   },
   "outputs": [
    {
     "name": "stdout",
     "output_type": "stream",
     "text": [
      "          Size   Number Thickness\n",
      "0     ex-large  scale-2      grey\n",
      "1       median  scale-3      grey\n",
      "2        small  scale-1      grey\n",
      "3     ex-large  scale-4     light\n",
      "4        small  scale-4      dark\n",
      "...        ...      ...       ...\n",
      "1973  ex-large  scale-1     light\n",
      "1974    median  scale-2     light\n",
      "1975  ex-large  scale-3      grey\n",
      "1976    median  scale-4      dark\n",
      "1977     large  scale-3      dark\n",
      "\n",
      "[1978 rows x 3 columns]\n",
      "0        stage-3\n",
      "1        stage-1\n",
      "2       negative\n",
      "3        stage-1\n",
      "4        stage-3\n",
      "          ...   \n",
      "1973     stage-3\n",
      "1974    negative\n",
      "1975    negative\n",
      "1976     stage-1\n",
      "1977     stage-1\n",
      "Name: Lung Cancer, Length: 1978, dtype: object\n"
     ]
    }
   ],
   "source": [
    "print(X_train)\n",
    "print(Y_train)"
   ]
  },
  {
   "cell_type": "markdown",
   "metadata": {
    "id": "ggFjTS6Yt7v8"
   },
   "source": [
    "### Tiền xử lý dữ liệu"
   ]
  },
  {
   "cell_type": "code",
   "execution_count": 9,
   "metadata": {
    "executionInfo": {
     "elapsed": 7,
     "status": "aborted",
     "timestamp": 1730883896835,
     "user": {
      "displayName": "Trần Vĩ Hào",
      "userId": "07345780700179417514"
     },
     "user_tz": -420
    },
    "id": "uTlhD0oXt7v8"
   },
   "outputs": [],
   "source": [
    "# Mapping các giá trị tương ứng với số\n",
    "size_mapping = {value: idx for idx, value in enumerate(X_train['Size'].unique())}\n",
    "number_mapping = {value: idx for idx, value in enumerate(X_train['Number'].unique())}\n",
    "thickness_mapping = {value: idx for idx, value in enumerate(X_train['Thickness'].unique())}\n",
    "lung_cancer_mapping = {value: idx for idx, value in enumerate(Y_train.unique())}"
   ]
  },
  {
   "cell_type": "code",
   "execution_count": 10,
   "metadata": {
    "executionInfo": {
     "elapsed": 7,
     "status": "aborted",
     "timestamp": 1730883896835,
     "user": {
      "displayName": "Trần Vĩ Hào",
      "userId": "07345780700179417514"
     },
     "user_tz": -420
    },
    "id": "p0Ggacjlt7v8"
   },
   "outputs": [
    {
     "name": "stdout",
     "output_type": "stream",
     "text": [
      "{'ex-large': 0, 'median': 1, 'small': 2, 'none': 3, 'large': 4}\n",
      "{'scale-2': 0, 'scale-3': 1, 'scale-1': 2, 'scale-4': 3, 'scale-5': 4}\n",
      "{'grey': 0, 'light': 1, 'dark': 2}\n",
      "{'stage-3': 0, 'stage-1': 1, 'negative': 2, 'stage-2': 3}\n"
     ]
    }
   ],
   "source": [
    "print(size_mapping)\n",
    "print(number_mapping)\n",
    "print(thickness_mapping)\n",
    "print(lung_cancer_mapping)"
   ]
  },
  {
   "cell_type": "code",
   "execution_count": 11,
   "metadata": {
    "executionInfo": {
     "elapsed": 7,
     "status": "aborted",
     "timestamp": 1730883896835,
     "user": {
      "displayName": "Trần Vĩ Hào",
      "userId": "07345780700179417514"
     },
     "user_tz": -420
    },
    "id": "Q4rzV8kGt7v9"
   },
   "outputs": [],
   "source": [
    "# Chuẩn hóa dữ liệu chuỗi thành số\n",
    "X_train['Size'] = X_train['Size'].map(size_mapping)\n",
    "X_train['Number'] = X_train['Number'].map(number_mapping)\n",
    "X_train['Thickness'] = X_train['Thickness'].map(thickness_mapping)\n",
    "\n",
    "Y_train = Y_train.map(lung_cancer_mapping)\n",
    "\n",
    "X_test['Size'] = X_test['Size'].map(size_mapping)\n",
    "X_test['Number'] = X_test['Number'].map(number_mapping)\n",
    "X_test['Thickness'] = X_test['Thickness'].map(thickness_mapping)"
   ]
  },
  {
   "cell_type": "code",
   "execution_count": 12,
   "metadata": {
    "executionInfo": {
     "elapsed": 2964,
     "status": "aborted",
     "timestamp": 1730883896836,
     "user": {
      "displayName": "Trần Vĩ Hào",
      "userId": "07345780700179417514"
     },
     "user_tz": -420
    },
    "id": "EodOqrA1t7v9"
   },
   "outputs": [
    {
     "name": "stdout",
     "output_type": "stream",
     "text": [
      "      Size  Number  Thickness\n",
      "0        0       0          0\n",
      "1        1       1          0\n",
      "2        2       2          0\n",
      "3        0       3          1\n",
      "4        2       3          2\n",
      "...    ...     ...        ...\n",
      "1973     0       2          1\n",
      "1974     1       0          1\n",
      "1975     0       1          0\n",
      "1976     1       3          2\n",
      "1977     4       1          2\n",
      "\n",
      "[1978 rows x 3 columns]\n",
      "0       0\n",
      "1       1\n",
      "2       2\n",
      "3       1\n",
      "4       0\n",
      "       ..\n",
      "1973    0\n",
      "1974    2\n",
      "1975    2\n",
      "1976    1\n",
      "1977    1\n",
      "Name: Lung Cancer, Length: 1978, dtype: int64\n"
     ]
    }
   ],
   "source": [
    "print(X_train)\n",
    "print(Y_train)"
   ]
  },
  {
   "cell_type": "markdown",
   "metadata": {
    "id": "0Qb7CVHjt7v9"
   },
   "source": [
    "### Áp dụng thuật toán Naive Bayes"
   ]
  },
  {
   "cell_type": "markdown",
   "metadata": {
    "id": "qYTpTd0mt7v9"
   },
   "source": [
    "#### P(y) = count(y) / count(Y)"
   ]
  },
  {
   "cell_type": "code",
   "execution_count": 13,
   "metadata": {
    "executionInfo": {
     "elapsed": 2963,
     "status": "aborted",
     "timestamp": 1730883896836,
     "user": {
      "displayName": "Trần Vĩ Hào",
      "userId": "07345780700179417514"
     },
     "user_tz": -420
    },
    "id": "z1P3q7yDt7v-"
   },
   "outputs": [],
   "source": [
    "# Tính toán prior probability (tiền xác suất), đây là xác xuất của các lớp mà không phụ thuộc vào dữ liệu X_train.\n",
    "# Giả sử: tổng số mẫu stage-1 trong lớp lung cancer là 10, mà tổng số mẫu của lung cancer là 100 thì prior probability của stage-1 là 10/100 = 0.1\n",
    "time_start = time.time()\n",
    "prior = {}\n",
    "for i in lung_cancer_mapping.values():\n",
    "    prior[i] = len(Y_train[Y_train == i]) / len(Y_train)"
   ]
  },
  {
   "cell_type": "markdown",
   "metadata": {
    "id": "bj0aDjsgt7v-"
   },
   "source": [
    "#### P(xi|y) = count(xi, y) / count(y)"
   ]
  },
  {
   "cell_type": "code",
   "execution_count": 14,
   "metadata": {
    "executionInfo": {
     "elapsed": 2962,
     "status": "aborted",
     "timestamp": 1730883896837,
     "user": {
      "displayName": "Trần Vĩ Hào",
      "userId": "07345780700179417514"
     },
     "user_tz": -420
    },
    "id": "wqD_9I8xt7v-"
   },
   "outputs": [],
   "source": [
    "# Tính toán conditional probability (xác suất có điều kiện), đây là xác suất của các feature mà phụ thuộc vào dữ liệu train.\n",
    "conditional = {}\n",
    "for i in lung_cancer_mapping.values():\n",
    "    conditional[i] = {}\n",
    "    for j in X_train.columns: # nhãn của X\n",
    "        conditional[i][j] = {}\n",
    "        for k in X_train[j].unique(): # đặc trưng của nhãn X\n",
    "            conditional[i][j][k] = len(X_train[(X_train[j] == k) & (Y_train == i)]) / len(Y_train[Y_train == i])"
   ]
  },
  {
   "cell_type": "markdown",
   "metadata": {
    "id": "Ypi0XVLEt7v-"
   },
   "source": [
    "#### S(y) = P(y) * P(x1|y) * P(x2|y) * P(x3|y)"
   ]
  },
  {
   "cell_type": "code",
   "execution_count": 15,
   "metadata": {
    "executionInfo": {
     "elapsed": 6,
     "status": "aborted",
     "timestamp": 1730883897971,
     "user": {
      "displayName": "Trần Vĩ Hào",
      "userId": "07345780700179417514"
     },
     "user_tz": -420
    },
    "id": "cj0OO6KKt7v-"
   },
   "outputs": [],
   "source": [
    "# Dự đoán dữ liệu Y dựa vào dữ liệu X_test\n",
    "Y_test = []\n",
    "\n",
    "for i in range(len(X_test)):\n",
    "    probabilities = [] # lưu trữ xác suất của mỗi lớp\n",
    "    for j in lung_cancer_mapping.values():\n",
    "        probability = prior[j]\n",
    "        for k in X_test.columns:\n",
    "            probability *= conditional[j][k][X_test[k][i]]\n",
    "        probabilities.append(probability)\n",
    "    Y_test.append(np.argmax(probabilities))\n",
    "\n",
    "time_end = time.time()"
   ]
  },
  {
   "cell_type": "code",
   "execution_count": 16,
   "metadata": {
    "executionInfo": {
     "elapsed": 6,
     "status": "aborted",
     "timestamp": 1730883897972,
     "user": {
      "displayName": "Trần Vĩ Hào",
      "userId": "07345780700179417514"
     },
     "user_tz": -420
    },
    "id": "DBl8sqOQt7v_"
   },
   "outputs": [],
   "source": [
    "# In kết quả của conditional probability\n",
    "# for i in conditional:\n",
    "#     print(f\"Class {i}\")\n",
    "#     for j in conditional[i]:\n",
    "#         print(f\"Feature {j}\")\n",
    "#         for k in conditional[i][j]:\n",
    "#             print(f\"Value {k}: {conditional[i][j][k]}\")"
   ]
  },
  {
   "cell_type": "code",
   "execution_count": 17,
   "metadata": {
    "executionInfo": {
     "elapsed": 6,
     "status": "aborted",
     "timestamp": 1730883897972,
     "user": {
      "displayName": "Trần Vĩ Hào",
      "userId": "07345780700179417514"
     },
     "user_tz": -420
    },
    "id": "9rVsSwf-t7v_"
   },
   "outputs": [
    {
     "name": "stdout",
     "output_type": "stream",
     "text": [
      "[3, 1, 3, 0, 3, 1, 3, 3, 2, 3]\n",
      "['stage-2', 'stage-1', 'stage-2', 'stage-3', 'stage-2', 'stage-1', 'stage-2', 'stage-2', 'negative', 'stage-2']\n",
      "  Lung Cancer\n",
      "0     stage-2\n",
      "1     stage-1\n",
      "2     stage-2\n",
      "3     stage-3\n",
      "4     stage-2\n",
      "5     stage-1\n",
      "6     stage-2\n",
      "7     stage-2\n",
      "8    negative\n",
      "9     stage-2\n"
     ]
    }
   ],
   "source": [
    "print(Y_test)\n",
    "\n",
    "# print the predicted classes\n",
    "Y_test_arr = [list(lung_cancer_mapping.keys())[i] for i in Y_test]\n",
    "Y_test_df = pd.DataFrame(Y_test_arr, columns=['Lung Cancer'])\n",
    "\n",
    "print(Y_test_arr)\n",
    "print(Y_test_df)"
   ]
  },
  {
   "cell_type": "markdown",
   "metadata": {
    "id": "lXewUH5ht7v_"
   },
   "source": [
    "### Sử dụng thư viên Sklearn"
   ]
  },
  {
   "cell_type": "code",
   "execution_count": 19,
   "metadata": {
    "executionInfo": {
     "elapsed": 6,
     "status": "aborted",
     "timestamp": 1730883897972,
     "user": {
      "displayName": "Trần Vĩ Hào",
      "userId": "07345780700179417514"
     },
     "user_tz": -420
    },
    "id": "T6VWCRNIt7v_"
   },
   "outputs": [],
   "source": [
    "# import sklearn\n",
    "from sklearn.naive_bayes import GaussianNB\n",
    "from sklearn.preprocessing import LabelEncoder"
   ]
  },
  {
   "cell_type": "code",
   "execution_count": 20,
   "metadata": {
    "executionInfo": {
     "elapsed": 6,
     "status": "aborted",
     "timestamp": 1730883897972,
     "user": {
      "displayName": "Trần Vĩ Hào",
      "userId": "07345780700179417514"
     },
     "user_tz": -420
    },
    "id": "xgLkwf4yt7v_"
   },
   "outputs": [],
   "source": [
    "X_train = pd.read_csv(\"./2a/X_train_2a.csv\")\n",
    "Y_train = pd.read_csv(\"./2a/Y_train_2a.csv\")\n",
    "X_test = pd.read_csv(\"./2a/X_test_2a.csv\")\n",
    "\n",
    "X_train = X_train[['Size', 'Number', 'Thickness']]\n",
    "Y_train = Y_train['Lung Cancer']\n",
    "X_test = X_test[['Size', 'Number', 'Thickness']]"
   ]
  },
  {
   "cell_type": "code",
   "execution_count": 21,
   "metadata": {
    "executionInfo": {
     "elapsed": 6,
     "status": "aborted",
     "timestamp": 1730883897972,
     "user": {
      "displayName": "Trần Vĩ Hào",
      "userId": "07345780700179417514"
     },
     "user_tz": -420
    },
    "id": "77dAvNF0t7v_"
   },
   "outputs": [],
   "source": [
    "# Mã hóa dữ liệu chuỗi thành số\n",
    "class_le = LabelEncoder()\n",
    "X_train['Size'] = class_le.fit_transform(X_train['Size'].values)\n",
    "X_train['Number'] = class_le.fit_transform(X_train['Number'].values)\n",
    "X_train['Thickness'] = class_le.fit_transform(X_train['Thickness'].values)\n",
    "\n",
    "X_test['Size'] = class_le.fit_transform(X_test['Size'].values)\n",
    "X_test['Number'] = class_le.fit_transform(X_test['Number'].values)\n",
    "X_test['Thickness'] = class_le.fit_transform(X_test['Thickness'].values)\n",
    "\n",
    "lung_cancer_le = LabelEncoder()\n",
    "Y_train = lung_cancer_le.fit_transform(Y_train)"
   ]
  },
  {
   "cell_type": "code",
   "execution_count": 22,
   "metadata": {
    "executionInfo": {
     "elapsed": 6,
     "status": "aborted",
     "timestamp": 1730883897972,
     "user": {
      "displayName": "Trần Vĩ Hào",
      "userId": "07345780700179417514"
     },
     "user_tz": -420
    },
    "id": "T1tBzjDXt7wA"
   },
   "outputs": [
    {
     "name": "stdout",
     "output_type": "stream",
     "text": [
      "      Size  Number  Thickness\n",
      "0        0       1          1\n",
      "1        2       2          1\n",
      "2        4       0          1\n",
      "3        0       3          2\n",
      "4        4       3          0\n",
      "...    ...     ...        ...\n",
      "1973     0       0          2\n",
      "1974     2       1          2\n",
      "1975     0       2          1\n",
      "1976     2       3          0\n",
      "1977     1       2          0\n",
      "\n",
      "[1978 rows x 3 columns]\n"
     ]
    }
   ],
   "source": [
    "print(X_train)"
   ]
  },
  {
   "cell_type": "code",
   "execution_count": 23,
   "metadata": {
    "executionInfo": {
     "elapsed": 6,
     "status": "aborted",
     "timestamp": 1730883897972,
     "user": {
      "displayName": "Trần Vĩ Hào",
      "userId": "07345780700179417514"
     },
     "user_tz": -420
    },
    "id": "hzebBCxot7wA"
   },
   "outputs": [
    {
     "data": {
      "text/html": [
       "<style>#sk-container-id-1 {color: black;background-color: white;}#sk-container-id-1 pre{padding: 0;}#sk-container-id-1 div.sk-toggleable {background-color: white;}#sk-container-id-1 label.sk-toggleable__label {cursor: pointer;display: block;width: 100%;margin-bottom: 0;padding: 0.3em;box-sizing: border-box;text-align: center;}#sk-container-id-1 label.sk-toggleable__label-arrow:before {content: \"▸\";float: left;margin-right: 0.25em;color: #696969;}#sk-container-id-1 label.sk-toggleable__label-arrow:hover:before {color: black;}#sk-container-id-1 div.sk-estimator:hover label.sk-toggleable__label-arrow:before {color: black;}#sk-container-id-1 div.sk-toggleable__content {max-height: 0;max-width: 0;overflow: hidden;text-align: left;background-color: #f0f8ff;}#sk-container-id-1 div.sk-toggleable__content pre {margin: 0.2em;color: black;border-radius: 0.25em;background-color: #f0f8ff;}#sk-container-id-1 input.sk-toggleable__control:checked~div.sk-toggleable__content {max-height: 200px;max-width: 100%;overflow: auto;}#sk-container-id-1 input.sk-toggleable__control:checked~label.sk-toggleable__label-arrow:before {content: \"▾\";}#sk-container-id-1 div.sk-estimator input.sk-toggleable__control:checked~label.sk-toggleable__label {background-color: #d4ebff;}#sk-container-id-1 div.sk-label input.sk-toggleable__control:checked~label.sk-toggleable__label {background-color: #d4ebff;}#sk-container-id-1 input.sk-hidden--visually {border: 0;clip: rect(1px 1px 1px 1px);clip: rect(1px, 1px, 1px, 1px);height: 1px;margin: -1px;overflow: hidden;padding: 0;position: absolute;width: 1px;}#sk-container-id-1 div.sk-estimator {font-family: monospace;background-color: #f0f8ff;border: 1px dotted black;border-radius: 0.25em;box-sizing: border-box;margin-bottom: 0.5em;}#sk-container-id-1 div.sk-estimator:hover {background-color: #d4ebff;}#sk-container-id-1 div.sk-parallel-item::after {content: \"\";width: 100%;border-bottom: 1px solid gray;flex-grow: 1;}#sk-container-id-1 div.sk-label:hover label.sk-toggleable__label {background-color: #d4ebff;}#sk-container-id-1 div.sk-serial::before {content: \"\";position: absolute;border-left: 1px solid gray;box-sizing: border-box;top: 0;bottom: 0;left: 50%;z-index: 0;}#sk-container-id-1 div.sk-serial {display: flex;flex-direction: column;align-items: center;background-color: white;padding-right: 0.2em;padding-left: 0.2em;position: relative;}#sk-container-id-1 div.sk-item {position: relative;z-index: 1;}#sk-container-id-1 div.sk-parallel {display: flex;align-items: stretch;justify-content: center;background-color: white;position: relative;}#sk-container-id-1 div.sk-item::before, #sk-container-id-1 div.sk-parallel-item::before {content: \"\";position: absolute;border-left: 1px solid gray;box-sizing: border-box;top: 0;bottom: 0;left: 50%;z-index: -1;}#sk-container-id-1 div.sk-parallel-item {display: flex;flex-direction: column;z-index: 1;position: relative;background-color: white;}#sk-container-id-1 div.sk-parallel-item:first-child::after {align-self: flex-end;width: 50%;}#sk-container-id-1 div.sk-parallel-item:last-child::after {align-self: flex-start;width: 50%;}#sk-container-id-1 div.sk-parallel-item:only-child::after {width: 0;}#sk-container-id-1 div.sk-dashed-wrapped {border: 1px dashed gray;margin: 0 0.4em 0.5em 0.4em;box-sizing: border-box;padding-bottom: 0.4em;background-color: white;}#sk-container-id-1 div.sk-label label {font-family: monospace;font-weight: bold;display: inline-block;line-height: 1.2em;}#sk-container-id-1 div.sk-label-container {text-align: center;}#sk-container-id-1 div.sk-container {/* jupyter's `normalize.less` sets `[hidden] { display: none; }` but bootstrap.min.css set `[hidden] { display: none !important; }` so we also need the `!important` here to be able to override the default hidden behavior on the sphinx rendered scikit-learn.org. See: https://github.com/scikit-learn/scikit-learn/issues/21755 */display: inline-block !important;position: relative;}#sk-container-id-1 div.sk-text-repr-fallback {display: none;}</style><div id=\"sk-container-id-1\" class=\"sk-top-container\"><div class=\"sk-text-repr-fallback\"><pre>GaussianNB()</pre><b>In a Jupyter environment, please rerun this cell to show the HTML representation or trust the notebook. <br />On GitHub, the HTML representation is unable to render, please try loading this page with nbviewer.org.</b></div><div class=\"sk-container\" hidden><div class=\"sk-item\"><div class=\"sk-estimator sk-toggleable\"><input class=\"sk-toggleable__control sk-hidden--visually\" id=\"sk-estimator-id-1\" type=\"checkbox\" checked><label for=\"sk-estimator-id-1\" class=\"sk-toggleable__label sk-toggleable__label-arrow\">GaussianNB</label><div class=\"sk-toggleable__content\"><pre>GaussianNB()</pre></div></div></div></div></div>"
      ],
      "text/plain": [
       "GaussianNB()"
      ]
     },
     "execution_count": 23,
     "metadata": {},
     "output_type": "execute_result"
    }
   ],
   "source": [
    "# train a Gaussian Naive Bayes classifier on the training set\n",
    "time_start_library = time.time()\n",
    "nb = GaussianNB()\n",
    "nb.fit(X_train, Y_train)"
   ]
  },
  {
   "cell_type": "code",
   "execution_count": 24,
   "metadata": {
    "executionInfo": {
     "elapsed": 6,
     "status": "aborted",
     "timestamp": 1730883897973,
     "user": {
      "displayName": "Trần Vĩ Hào",
      "userId": "07345780700179417514"
     },
     "user_tz": -420
    },
    "id": "6xiYlLXKt7wA"
   },
   "outputs": [],
   "source": [
    "# predict the class labels of test set\n",
    "Y_test_library = nb.predict(X_test)\n",
    "time_end_library = time.time()"
   ]
  },
  {
   "cell_type": "code",
   "execution_count": 25,
   "metadata": {
    "executionInfo": {
     "elapsed": 6,
     "status": "aborted",
     "timestamp": 1730883897973,
     "user": {
      "displayName": "Trần Vĩ Hào",
      "userId": "07345780700179417514"
     },
     "user_tz": -420
    },
    "id": "z7T8FjFxt7wA"
   },
   "outputs": [
    {
     "name": "stdout",
     "output_type": "stream",
     "text": [
      "[0 0 2 3 3 1 2 2 0 2]\n",
      "['negative' 'negative' 'stage-2' 'stage-3' 'stage-3' 'stage-1' 'stage-2'\n",
      " 'stage-2' 'negative' 'stage-2']\n",
      "  Lung Cancer\n",
      "0    negative\n",
      "1    negative\n",
      "2     stage-2\n",
      "3     stage-3\n",
      "4     stage-3\n",
      "5     stage-1\n",
      "6     stage-2\n",
      "7     stage-2\n",
      "8    negative\n",
      "9     stage-2\n"
     ]
    }
   ],
   "source": [
    "# print the predicted class labels\n",
    "Y_test_arr_library = lung_cancer_le.inverse_transform(Y_test_library)\n",
    "Y_test_df_library = pd.DataFrame(Y_test_arr_library, columns=['Lung Cancer'])\n",
    "\n",
    "print(Y_test_library)\n",
    "print(Y_test_arr_library)\n",
    "print(Y_test_df_library)"
   ]
  },
  {
   "cell_type": "code",
   "execution_count": 28,
   "metadata": {},
   "outputs": [
    {
     "name": "stdout",
     "output_type": "stream",
     "text": [
      "Accuracy:  0.7\n",
      "Confusion Matrix:  [[1 1 1 0]\n",
      " [0 1 0 0]\n",
      " [0 0 4 0]\n",
      " [0 0 1 1]]\n"
     ]
    }
   ],
   "source": [
    "print(\"Accuracy: \", accuracy_score(Y_test_arr_library, Y_test_arr))\n",
    "print(\"Confusion Matrix: \", confusion_matrix(Y_test_arr_library, Y_test_arr))"
   ]
  },
  {
   "cell_type": "code",
   "execution_count": 27,
   "metadata": {
    "executionInfo": {
     "elapsed": 6,
     "status": "aborted",
     "timestamp": 1730883897973,
     "user": {
      "displayName": "Trần Vĩ Hào",
      "userId": "07345780700179417514"
     },
     "user_tz": -420
    },
    "id": "a7wei-Lyt7wA"
   },
   "outputs": [
    {
     "name": "stdout",
     "output_type": "stream",
     "text": [
      "Thời gian chạy của thuật toán tự triển khai:       0.14911818504333496\n",
      "Thời gian chạy của thuật toán thư viện:       0.03305172920227051\n"
     ]
    }
   ],
   "source": [
    "# Running time\n",
    "print(f\"Thời gian chạy của thuật toán tự triển khai: \\\n",
    "      {time_end - time_start}\")\n",
    "print(f\"Thời gian chạy của thuật toán thư viện: \\\n",
    "      {time_end_library - time_start_library}\")"
   ]
  }
 ],
 "metadata": {
  "colab": {
   "provenance": []
  },
  "kernelspec": {
   "display_name": "Python 3",
   "language": "python",
   "name": "python3"
  },
  "language_info": {
   "codemirror_mode": {
    "name": "ipython",
    "version": 3
   },
   "file_extension": ".py",
   "mimetype": "text/x-python",
   "name": "python",
   "nbconvert_exporter": "python",
   "pygments_lexer": "ipython3",
   "version": "3.9.6"
  }
 },
 "nbformat": 4,
 "nbformat_minor": 0
}
