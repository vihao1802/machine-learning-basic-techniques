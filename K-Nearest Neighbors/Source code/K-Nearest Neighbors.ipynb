{
 "cells": [
  {
   "cell_type": "code",
   "execution_count": 255,
   "metadata": {},
   "outputs": [],
   "source": [
    "import numpy as np\n",
    "import pandas as pd\n",
    "import time"
   ]
  },
  {
   "cell_type": "markdown",
   "metadata": {},
   "source": [
    "Dataset"
   ]
  },
  {
   "cell_type": "code",
   "execution_count": 256,
   "metadata": {},
   "outputs": [],
   "source": [
    "# X_train = pd.read_csv(\"X_train.csv\")\n",
    "# Y_train = pd.read_csv(\"Y_train_4b.csv\")\n",
    "# X_test = pd.read_csv(\"X_test.csv\")\n",
    "X_train = pd.read_csv(\"X_train_big.csv\")\n",
    "Y_train = pd.read_csv(\"Y_train_big.csv\")\n",
    "X_test = pd.read_csv(\"X_test_big.csv\")\n",
    "Y_test = pd.read_csv(\"Y_test_big.csv\")"
   ]
  },
  {
   "cell_type": "code",
   "execution_count": 257,
   "metadata": {},
   "outputs": [],
   "source": [
    "# X_train = X_train.drop(columns=['Name'])"
   ]
  },
  {
   "cell_type": "code",
   "execution_count": 258,
   "metadata": {},
   "outputs": [],
   "source": [
    "X_train = X_train.values\n",
    "Y_train = Y_train.values\n",
    "X_test = X_test.values\n"
   ]
  },
  {
   "cell_type": "code",
   "execution_count": 259,
   "metadata": {},
   "outputs": [
    {
     "data": {
      "text/plain": [
       "((29983, 23), (29983, 1), (12, 23))"
      ]
     },
     "execution_count": 259,
     "metadata": {},
     "output_type": "execute_result"
    }
   ],
   "source": [
    "X_train.shape, Y_train.shape, X_test.shape"
   ]
  },
  {
   "cell_type": "code",
   "execution_count": 260,
   "metadata": {},
   "outputs": [
    {
     "data": {
      "text/plain": [
       "numpy.ndarray"
      ]
     },
     "execution_count": 260,
     "metadata": {},
     "output_type": "execute_result"
    }
   ],
   "source": [
    "type(X_train)"
   ]
  },
  {
   "cell_type": "code",
   "execution_count": 261,
   "metadata": {},
   "outputs": [],
   "source": [
    "# Y_train = np.where(Y_train == 'Yes', 1, np.where(Y_train == 'No', 0, 2))\n",
    "Y_train = Y_train.ravel()"
   ]
  },
  {
   "cell_type": "markdown",
   "metadata": {},
   "source": [
    "Normalize"
   ]
  },
  {
   "cell_type": "code",
   "execution_count": 262,
   "metadata": {},
   "outputs": [],
   "source": [
    "def normalize(X, min, max):\n",
    "    return 100 * (X - min) / (max - min)"
   ]
  },
  {
   "cell_type": "code",
   "execution_count": 263,
   "metadata": {},
   "outputs": [],
   "source": [
    "min = np.min(X_train, axis=0)\n",
    "max = np.max(X_train, axis=0)\n",
    "\n",
    "X_train = normalize(X_train, min, max)\n",
    "X_test = normalize(X_test, min, max)"
   ]
  },
  {
   "cell_type": "markdown",
   "metadata": {},
   "source": [
    "Euclidean Distance"
   ]
  },
  {
   "cell_type": "code",
   "execution_count": 264,
   "metadata": {},
   "outputs": [],
   "source": [
    "def euclidean_distance(x1, x2):\n",
    "    return np.sqrt(np.sum((x1 - x2) ** 2))"
   ]
  },
  {
   "cell_type": "markdown",
   "metadata": {},
   "source": [
    "Model"
   ]
  },
  {
   "cell_type": "code",
   "execution_count": 265,
   "metadata": {},
   "outputs": [],
   "source": [
    "def model(X, Y, X_test, k):\n",
    "\n",
    "    distances = np.array([euclidean_distance(X_test, x) for x in X])\n",
    "\n",
    "    reciprocals = np.array([1 /(1 + d) for d in distances])\n",
    "\n",
    "    weights =  np.array([r / np.sum(reciprocals) for r in reciprocals])\n",
    "\n",
    "    kth_small = np.sort(distances)[:k].max()\n",
    "    \n",
    "    sum_weights = [weights[np.logical_and(Y == i,distances <= kth_small)].sum()\\\n",
    "                for i in range(len(np.unique(Y)))]\n",
    "    return np.argmax(sum_weights)"
   ]
  },
  {
   "cell_type": "markdown",
   "metadata": {},
   "source": [
    "Main"
   ]
  },
  {
   "cell_type": "code",
   "execution_count": 266,
   "metadata": {},
   "outputs": [
    {
     "data": {
      "text/plain": [
       "array([0, 1])"
      ]
     },
     "execution_count": 266,
     "metadata": {},
     "output_type": "execute_result"
    }
   ],
   "source": [
    "classes = np.unique(Y_train)\n",
    "classes"
   ]
  },
  {
   "cell_type": "code",
   "execution_count": null,
   "metadata": {},
   "outputs": [
    {
     "name": "stdout",
     "output_type": "stream",
     "text": [
      "Kết quả phân lớp điểm thứ 1 với k = 1, 3, 5, 7, 9, 11, 13, 15, 17:\n",
      " [0 0 0 0 0 0 0 0]\n",
      "Kết quả phân lớp điểm thứ 2 với k = 1, 3, 5, 7, 9, 11, 13, 15, 17:\n",
      " [0 0 0 0 0 0 0 0]\n",
      "Kết quả phân lớp điểm thứ 3 với k = 1, 3, 5, 7, 9, 11, 13, 15, 17:\n",
      " [0 0 0 0 0 0 0 0]\n",
      "Kết quả phân lớp điểm thứ 4 với k = 1, 3, 5, 7, 9, 11, 13, 15, 17:\n",
      " [1 0 0 0 0 0 0 0]\n",
      "Kết quả phân lớp điểm thứ 5 với k = 1, 3, 5, 7, 9, 11, 13, 15, 17:\n",
      " [0 0 0 0 0 0 0 0]\n",
      "Kết quả phân lớp điểm thứ 6 với k = 1, 3, 5, 7, 9, 11, 13, 15, 17:\n",
      " [1 1 1 0 0 0 0 0]\n",
      "Kết quả phân lớp điểm thứ 7 với k = 1, 3, 5, 7, 9, 11, 13, 15, 17:\n",
      " [0 0 0 0 0 0 0 0]\n",
      "Kết quả phân lớp điểm thứ 8 với k = 1, 3, 5, 7, 9, 11, 13, 15, 17:\n",
      " [0 0 0 0 0 0 0 0]\n",
      "Kết quả phân lớp điểm thứ 9 với k = 1, 3, 5, 7, 9, 11, 13, 15, 17:\n",
      " [1 1 1 1 1 1 1 1]\n",
      "Kết quả phân lớp điểm thứ 10 với k = 1, 3, 5, 7, 9, 11, 13, 15, 17:\n",
      " [1 1 0 0 0 0 0 0]\n",
      "Kết quả phân lớp điểm thứ 11 với k = 1, 3, 5, 7, 9, 11, 13, 15, 17:\n",
      " [0 0 0 0 0 0 0 0]\n",
      "Kết quả phân lớp điểm thứ 12 với k = 1, 3, 5, 7, 9, 11, 13, 15, 17:\n",
      " [1 1 1 1 1 1 1 1]\n",
      "Thời gian chạy mô hình tự cài đặt: 70.5170648097992 giây\n"
     ]
    }
   ],
   "source": [
    "\n",
    "range_for_k = 18\n",
    "k_values = [i for i in range(range_for_k) if i % 2 != 0]\n",
    "\n",
    "manual_time = []\n",
    "manual_predict = []\n",
    "index = 0\n",
    "for x_test_point in X_test:\n",
    "    index += 1\n",
    "    start_time = time.time()\n",
    "    y_pred = [model(X_train, Y_train, x_test_point, k) for k in k_values]\n",
    "    print(f\"Kết quả phân lớp điểm thứ {index} với k = 1, 3, 5, 7, 9, 11, 13, 15, 17:\\n\",\\\n",
    "        np.array([classes[i] for i in y_pred]))\n",
    "    end_time = time.time()\n",
    "    manual_time.append(end_time - start_time)\n",
    "    manual_predict.append(np.array([classes[i] for i in y_pred]))\n",
    "    \n",
    "print(f\"Thời gian chạy mô hình tự cài đặt: {sum(manual_time)} giây\")\n"
   ]
  },
  {
   "cell_type": "code",
   "execution_count": 282,
   "metadata": {},
   "outputs": [
    {
     "data": {
      "text/plain": [
       "[array([0, 0, 0, 0, 0, 0, 0, 0]),\n",
       " array([0, 0, 0, 0, 0, 0, 0, 0]),\n",
       " array([0, 0, 0, 0, 0, 0, 0, 0]),\n",
       " array([1, 0, 0, 0, 0, 0, 0, 0]),\n",
       " array([0, 0, 0, 0, 0, 0, 0, 0]),\n",
       " array([1, 1, 1, 0, 0, 0, 0, 0]),\n",
       " array([0, 0, 0, 0, 0, 0, 0, 0]),\n",
       " array([0, 0, 0, 0, 0, 0, 0, 0]),\n",
       " array([1, 1, 1, 1, 1, 1, 1, 1]),\n",
       " array([1, 1, 0, 0, 0, 0, 0, 0]),\n",
       " array([0, 0, 0, 0, 0, 0, 0, 0]),\n",
       " array([1, 1, 1, 1, 1, 1, 1, 1])]"
      ]
     },
     "execution_count": 282,
     "metadata": {},
     "output_type": "execute_result"
    }
   ],
   "source": [
    "manual_predict"
   ]
  },
  {
   "cell_type": "markdown",
   "metadata": {},
   "source": [
    "Sklearn"
   ]
  },
  {
   "cell_type": "code",
   "execution_count": null,
   "metadata": {},
   "outputs": [
    {
     "name": "stdout",
     "output_type": "stream",
     "text": [
      "Kết quả phân lớp của điểm thứ 1 với k = 1, 3, 5, 7, 9, 11:\n",
      " [0 0 0 0 0 0 0 0]\n",
      "Kết quả phân lớp của điểm thứ 2 với k = 1, 3, 5, 7, 9, 11:\n",
      " [0 0 0 0 0 0 0 0]\n",
      "Kết quả phân lớp của điểm thứ 3 với k = 1, 3, 5, 7, 9, 11:\n",
      " [0 0 0 0 0 0 0 0]\n",
      "Kết quả phân lớp của điểm thứ 4 với k = 1, 3, 5, 7, 9, 11:\n",
      " [1 0 0 0 0 0 0 0]\n",
      "Kết quả phân lớp của điểm thứ 5 với k = 1, 3, 5, 7, 9, 11:\n",
      " [0 0 0 0 0 0 0 0]\n",
      "Kết quả phân lớp của điểm thứ 6 với k = 1, 3, 5, 7, 9, 11:\n",
      " [1 1 1 0 0 0 0 0]\n",
      "Kết quả phân lớp của điểm thứ 7 với k = 1, 3, 5, 7, 9, 11:\n",
      " [0 0 0 0 0 0 0 0]\n",
      "Kết quả phân lớp của điểm thứ 8 với k = 1, 3, 5, 7, 9, 11:\n",
      " [0 0 0 0 0 0 0 0]\n",
      "Kết quả phân lớp của điểm thứ 9 với k = 1, 3, 5, 7, 9, 11:\n",
      " [1 1 1 1 1 1 1 1]\n",
      "Kết quả phân lớp của điểm thứ 10 với k = 1, 3, 5, 7, 9, 11:\n",
      " [1 1 0 0 0 0 0 0]\n",
      "Kết quả phân lớp của điểm thứ 11 với k = 1, 3, 5, 7, 9, 11:\n",
      " [0 0 0 0 0 0 0 0]\n",
      "Kết quả phân lớp của điểm thứ 12 với k = 1, 3, 5, 7, 9, 11:\n",
      " [1 1 1 1 1 1 1 1]\n",
      "Thời gian chạy mô hình sklearn:  0.9444 giây\n"
     ]
    }
   ],
   "source": [
    "from sklearn.neighbors import KNeighborsClassifier\n",
    "from sklearn.metrics import accuracy_score\n",
    "\n",
    "# Lưu kết quả dự đoán cho từng giá trị k\n",
    "predictions = []\n",
    "sklearn_time = []\n",
    "index = 0\n",
    "# Lặp qua từng giá trị k, huấn luyện và dự đoán\n",
    "for x_test_point in X_test:\n",
    "    start_time = time.time()\n",
    "    y_prediction = []\n",
    "    index += 1\n",
    "    for k in k_values:\n",
    "        # Khởi tạo và huấn luyện mô hình KNN với k hiện tại\n",
    "        knn = KNeighborsClassifier(\n",
    "            n_neighbors=k, \n",
    "            metric='euclidean', \n",
    "            weights='distance')\n",
    "        knn.fit(X_train, Y_train)\n",
    "        \n",
    "        # Dự đoán nhãn của tập kiểm tra\n",
    "        y_prediction.append(knn.predict(x_test_point.reshape(1, -1))[0])\n",
    "        \n",
    "    print(f\"Kết quả phân lớp của điểm thứ {index} với k = 1, 3, 5, 7, 9, 11:\\n\",\\\n",
    "        np.array([classes[i] for i in y_prediction]))\n",
    "    \n",
    "    predictions.append(np.array([classes[i] for i in y_prediction]))\n",
    "    end_time = time.time()\n",
    "    sklearn_time.append(end_time - start_time)\n",
    "    \n",
    "\n",
    "print(f\"Thời gian chạy mô hình sklearn: {sum(sklearn_time): .4f} giây\")\n",
    "\n",
    "# In kết quả dự đoán\n"
   ]
  },
  {
   "cell_type": "code",
   "execution_count": 279,
   "metadata": {},
   "outputs": [
    {
     "data": {
      "text/plain": [
       "[array([0, 0, 0, 0, 0, 0, 0, 0]),\n",
       " array([0, 0, 0, 0, 0, 0, 0, 0]),\n",
       " array([0, 0, 0, 0, 0, 0, 0, 0]),\n",
       " array([1, 0, 0, 0, 0, 0, 0, 0]),\n",
       " array([0, 0, 0, 0, 0, 0, 0, 0]),\n",
       " array([1, 1, 1, 0, 0, 0, 0, 0]),\n",
       " array([0, 0, 0, 0, 0, 0, 0, 0]),\n",
       " array([0, 0, 0, 0, 0, 0, 0, 0]),\n",
       " array([1, 1, 1, 1, 1, 1, 1, 1]),\n",
       " array([1, 1, 0, 0, 0, 0, 0, 0]),\n",
       " array([0, 0, 0, 0, 0, 0, 0, 0]),\n",
       " array([1, 1, 1, 1, 1, 1, 1, 1])]"
      ]
     },
     "execution_count": 279,
     "metadata": {},
     "output_type": "execute_result"
    }
   ],
   "source": [
    "predictions"
   ]
  },
  {
   "cell_type": "code",
   "execution_count": 286,
   "metadata": {},
   "outputs": [
    {
     "data": {
      "text/plain": [
       "array([[0],\n",
       "       [1],\n",
       "       [0],\n",
       "       [0],\n",
       "       [0],\n",
       "       [0],\n",
       "       [0],\n",
       "       [0],\n",
       "       [1],\n",
       "       [0],\n",
       "       [0],\n",
       "       [1]])"
      ]
     },
     "execution_count": 286,
     "metadata": {},
     "output_type": "execute_result"
    }
   ],
   "source": [
    "np.array(Y_test)"
   ]
  },
  {
   "cell_type": "code",
   "execution_count": 292,
   "metadata": {},
   "outputs": [
    {
     "name": "stdout",
     "output_type": "stream",
     "text": [
      "Độ chính xác của mô hình sklearn: 54.17%\n",
      "Độ chính xác của mô hình tự cài đặt: 54.17%\n"
     ]
    }
   ],
   "source": [
    "Y_test = np.array(Y_test)\n",
    "predicted_labels = np.array([pred[0] for pred in predictions])\n",
    "accuracy = np.mean(predicted_labels == Y_test)\n",
    "print(f\"Độ chính xác của mô hình sklearn: {accuracy * 100:.2f}%\")\n",
    "\n",
    "predicted_labels = np.array([pred[0] for pred in manual_predict])\n",
    "accuracy = np.mean(predicted_labels == Y_test)\n",
    "print(f\"Độ chính xác của mô hình tự cài đặt: {accuracy * 100:.2f}%\")"
   ]
  },
  {
   "cell_type": "markdown",
   "metadata": {},
   "source": [
    "Accuracy"
   ]
  },
  {
   "cell_type": "code",
   "execution_count": 270,
   "metadata": {},
   "outputs": [],
   "source": [
    "import matplotlib.pyplot as plt"
   ]
  },
  {
   "cell_type": "code",
   "execution_count": 271,
   "metadata": {},
   "outputs": [
    {
     "data": {
      "image/png": "[encoded data removed]",
      "text/plain": [
       "<Figure size 1000x600 with 1 Axes>"
      ]
     },
     "metadata": {},
     "output_type": "display_data"
    }
   ],
   "source": [
    "# Dữ liệu mẫu: thời gian thực thi (giả định)\n",
    "# Thay thế các giá trị này bằng dữ liệu thực tế\n",
    "n_point = [i+1 for i in range(len(X_test))] \n",
    "# Vẽ biểu đồ\n",
    "plt.figure(figsize=(10, 6))\n",
    "\n",
    "# Đường biểu diễn thời gian thực thi\n",
    "plt.plot(n_point, manual_time, marker='o', label='Manual Implementation', color='blue')\n",
    "plt.plot(n_point, sklearn_time, marker='s', label='Sklearn Implementation', color='green')\n",
    "\n",
    "# Cấu hình biểu đồ\n",
    "plt.title('Comparison of Execution Time', fontsize=16)\n",
    "plt.xlabel('Number of Samples', fontsize=14)\n",
    "plt.ylabel('Execution Time (seconds)', fontsize=14)\n",
    "plt.grid(True, linestyle='--', alpha=0.6)\n",
    "plt.legend(fontsize=12)\n",
    "plt.xticks(n_point)  # Hiển thị rõ các điểm mẫu\n",
    "plt.tight_layout()\n",
    "\n",
    "# Hiển thị biểu đồ\n",
    "plt.show()\n"
   ]
  },
  {
   "cell_type": "code",
   "execution_count": 272,
   "metadata": {},
   "outputs": [
    {
     "data": {
      "image/png": "[encoded data removed]",
      "text/plain": [
       "<Figure size 800x500 with 1 Axes>"
      ]
     },
     "metadata": {},
     "output_type": "display_data"
    }
   ],
   "source": [
    "# Tạo dữ liệu cho biểu đồ\n",
    "scores = [time_taken_manual, time_taken_sklearn]\n",
    "labels = ['Time taken manual', 'Time taken SKlearn']# Vẽ biểu đồ cột\n",
    "\n",
    "plt.figure(figsize=(8, 5))\n",
    "plt.bar(labels, scores, color=['blue', 'green'])\n",
    "plt.ylabel('Time taken (s)')\n",
    "plt.title('So sánh thời gian thực thi giữa Manual và Sklearn')\n",
    "\n",
    "# Hiển thị giá trị trên mỗi cột\n",
    "for i, v in enumerate(scores):\n",
    "    plt.text(i, v + 0.0001, f\"{v:.2f}\", ha='center', fontweight='bold')\n",
    "\n",
    "plt.show()"
   ]
  }
 ],
 "metadata": {
  "kernelspec": {
   "display_name": "Python 3",
   "language": "python",
   "name": "python3"
  },
  "language_info": {
   "codemirror_mode": {
    "name": "ipython",
    "version": 3
   },
   "file_extension": ".py",
   "mimetype": "text/x-python",
   "name": "python",
   "nbconvert_exporter": "python",
   "pygments_lexer": "ipython3",
   "version": "3.12.6"
  }
 },
 "nbformat": 4,
 "nbformat_minor": 2
}
