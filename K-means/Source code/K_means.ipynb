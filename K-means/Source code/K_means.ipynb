{
 "cells": [
  {
   "cell_type": "code",
   "execution_count": null,
   "metadata": {},
   "outputs": [],
   "source": [
    "import numpy as np\n",
    "import pandas as pd\n",
    "import time\n",
    "import matplotlib.pyplot as plt"
   ]
  },
  {
   "cell_type": "markdown",
   "metadata": {},
   "source": [
    "Dataset"
   ]
  },
  {
   "cell_type": "code",
   "execution_count": null,
   "metadata": {},
   "outputs": [],
   "source": [
    "# X_train = pd.read_csv('X_train.csv')\n",
    "X_train = pd.read_csv('X_train_big_data.csv')\n",
    "X_train = X_train.values"
   ]
  },
  {
   "cell_type": "markdown",
   "metadata": {},
   "source": [
    "Euclidean Distance"
   ]
  },
  {
   "cell_type": "code",
   "execution_count": null,
   "metadata": {},
   "outputs": [],
   "source": [
    "def euclidean_distance(x1, x2):\n",
    "    return np.sqrt(np.sum((x1-x2)**2))"
   ]
  },
  {
   "cell_type": "code",
   "execution_count": null,
   "metadata": {},
   "outputs": [],
   "source": [
    "def compute_distances(X,centroids):\n",
    "    m = X.shape[0]\n",
    "    n = len(centroids)\n",
    "    distances = np.zeros((m, n), dtype=float)\n",
    "    for i in range(m):\n",
    "        for j in range(n):\n",
    "            distances[i][j] = euclidean_distance(X[i], centroids[j])\n",
    "    return distances"
   ]
  },
  {
   "cell_type": "code",
   "execution_count": null,
   "metadata": {},
   "outputs": [],
   "source": [
    "def update_centroids(X, cluster_labels):\n",
    "    n = len(set(cluster_labels))\n",
    "    new_centroids = [] \n",
    "\n",
    "    for i in range(n):\n",
    "        cluster_point = X[cluster_labels == i]\n",
    "        centroids = np.mean(cluster_point, axis=0)\n",
    "        new_centroids.append(centroids)\n",
    "    return new_centroids"
   ]
  },
  {
   "cell_type": "code",
   "execution_count": null,
   "metadata": {},
   "outputs": [],
   "source": [
    "def plot(X, centroids, cluster_labels):\n",
    "    centroids_2d = centroids[:, :2] \n",
    "    plt.figure(figsize=(10, 6))\n",
    "\n",
    "    # Lặp qua từng cụm để vẽ các điểm\n",
    "    for cluster_id in np.unique(cluster_labels):\n",
    "        cluster_points = X[cluster_labels == cluster_id]  # Truy cập vào các điểm thuộc cụm\n",
    "\n",
    "        # Đảm bảo không gặp lỗi khi truy cập vào chỉ số\n",
    "        if cluster_points.ndim == 2:  # Kiểm tra nếu là ma trận 2D\n",
    "            plt.scatter(cluster_points[:, 0], cluster_points[:, 1], label=f'Cụm {cluster_id}')\n",
    "\n",
    "    # Hiển thị các tâm cụm\n",
    "    plt.scatter(centroids_2d[:, 0], centroids_2d[:, 1], color='black', marker='x', s=200, label='Tâm cụm')\n",
    "\n",
    "    # Thêm tiêu đề và nhãn trục\n",
    "    plt.title('Trực quan hóa phân cụm và các tâm cụm (2 đặc trưng đầu tiên)')\n",
    "    plt.xlabel('Đặc trưng 1')\n",
    "    plt.ylabel('Đặc trưng 2')\n",
    "    plt.legend()\n",
    "\n",
    "    plt.show()"
   ]
  },
  {
   "cell_type": "markdown",
   "metadata": {},
   "source": [
    "Model"
   ]
  },
  {
   "cell_type": "code",
   "execution_count": null,
   "metadata": {},
   "outputs": [],
   "source": [
    "def model(X, k):\n",
    "    np.random.seed(1)\n",
    "    random_indices = np.random.choice(X.shape[0], size=k, replace=False)\n",
    "    centroids = X[random_indices]\n",
    "    cluster = np.zeros(X.shape[0])\n",
    "    \n",
    "    while True:\n",
    "        # Tính khoảng cách từ các mẫu đến từng tâm cụm\n",
    "        distances = compute_distances(X,centroids)\n",
    "        \n",
    "        # Xác định cụm gần nhất cho từng mẫu\n",
    "        new_cluster = np.argmin(distances, axis=1)\n",
    "        \n",
    "        # Nếu các cụm không thay đổi thì dừng vòng lặp\n",
    "        if np.array_equal(cluster, new_cluster):\n",
    "            break\n",
    "        \n",
    "        # Cập nhật các chỉ số cụm\n",
    "        cluster = new_cluster\n",
    "        \n",
    "        # Cập nhật các tâm cụm dựa trên các mẫu trong từng cụm\n",
    "        centroids = update_centroids(X, cluster)\n",
    "\n",
    "    return cluster, centroids\n",
    "    "
   ]
  },
  {
   "cell_type": "markdown",
   "metadata": {},
   "source": [
    "Main"
   ]
  },
  {
   "cell_type": "code",
   "execution_count": null,
   "metadata": {},
   "outputs": [],
   "source": [
    "k = 4\n",
    "\n",
    "start_time = time.time()\n",
    "predict, centroids = model(X_train, k)\n",
    "end_time = time.time()\n",
    "print(f\"Thời gian chạy mô hình tự cài đặt: {end_time - start_time:.4f} giây\")\n",
    "\n",
    "centroids = np.array(centroids)\n",
    "\n",
    "print(\"Kết quả phân cụm:\", predict)\n",
    "print(\"Các tâm cụm:\", centroids)\n",
    "plot(X_train, centroids, predict)"
   ]
  },
  {
   "cell_type": "markdown",
   "metadata": {},
   "source": [
    "Sklearn"
   ]
  },
  {
   "cell_type": "code",
   "execution_count": null,
   "metadata": {},
   "outputs": [],
   "source": [
    "from sklearn.cluster import KMeans\n",
    "\n",
    "# Khởi tạo mô hình KMeans với k = 4\n",
    "start_time = time.time()\n",
    "kmeans = KMeans(n_clusters=4, random_state=42)\n",
    "\n",
    "# Huấn luyện mô hình\n",
    "kmeans.fit(X_train)\n",
    "end_time = time.time()\n",
    "\n",
    "print(f\"Thời gian chạy mô hình sklearn: {end_time - start_time:.4f} giây\")\n",
    "\n",
    "# Nhận kết quả phân cụm\n",
    "clusters = kmeans.labels_\n",
    "centroids = kmeans.cluster_centers_\n",
    "\n",
    "print(\"Kết quả phân cụm:\", clusters)\n",
    "print(\"Các tâm cụm:\", centroids)\n",
    "\n",
    "plot(X_train, centroids, clusters)"
   ]
  },
  {
   "cell_type": "code",
   "execution_count": null,
   "metadata": {},
   "outputs": [],
   "source": [
    "from sklearn.metrics import silhouette_score\n",
    "manual_silhouette = silhouette_score(X_train, predict)\n",
    "sklearn_silhouette = silhouette_score(X_train, clusters)\n",
    "print(\"Silhouette score manual:\", manual_silhouette)\n",
    "print(\"Silhouette score sklearn:\", sklearn_silhouette)"
   ]
  }
 ],
 "metadata": {
  "kernelspec": {
   "display_name": "Python 3",
   "language": "python",
   "name": "python3"
  },
  "language_info": {
   "codemirror_mode": {
    "name": "ipython",
    "version": 3
   },
   "file_extension": ".py",
   "mimetype": "text/x-python",
   "name": "python",
   "nbconvert_exporter": "python",
   "pygments_lexer": "ipython3",
   "version": "3.12.6"
  }
 },
 "nbformat": 4,
 "nbformat_minor": 2
}
