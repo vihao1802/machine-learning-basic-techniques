{
 "cells": [
  {
   "cell_type": "code",
   "execution_count": 1,
   "metadata": {},
   "outputs": [],
   "source": [
    "import numpy as np\n",
    "import pandas as pd\n",
    "import time"
   ]
  },
  {
   "cell_type": "markdown",
   "metadata": {},
   "source": [
    "Dataset"
   ]
  },
  {
   "cell_type": "code",
   "execution_count": 2,
   "metadata": {},
   "outputs": [],
   "source": [
    "# X_train = pd.read_csv('dataset/X_train.csv', header=None)\n",
    "# Y_train = pd.read_csv('dataset/Y_train.csv', header=None)\n",
    "# X_test = pd.read_csv('dataset/X_test.csv', header=None)\n",
    "# Y_test = pd.read_csv('dataset/Y_test.csv', header=None)\n",
    "X_train = pd.read_csv(\"dataset/x-train-big-data.csv\",header=None)\n",
    "Y_train = pd.read_csv(\"dataset/y-train-big-data.csv\",header=None)\n",
    "X_test = pd.read_csv(\"dataset/x-test-big-data.csv\",header=None)\n",
    "Y_test = pd.read_csv(\"dataset/y-test-big-data.csv\",header=None)"
   ]
  },
  {
   "cell_type": "code",
   "execution_count": 3,
   "metadata": {},
   "outputs": [],
   "source": [
    "X_train = X_train.values\n",
    "Y_train = Y_train.values\n",
    "X_test = X_test.values\n",
    "Y_test = Y_test.values\n"
   ]
  },
  {
   "cell_type": "code",
   "execution_count": 4,
   "metadata": {},
   "outputs": [
    {
     "name": "stdout",
     "output_type": "stream",
     "text": [
      "(9998, 14)\n",
      "(9998, 1)\n",
      "(131, 14)\n",
      "(131, 1)\n"
     ]
    }
   ],
   "source": [
    "print(X_train.shape)\n",
    "print(Y_train.shape)\n",
    "print(X_test.shape)\n",
    "print(Y_test.shape)"
   ]
  },
  {
   "cell_type": "markdown",
   "metadata": {},
   "source": [
    "Linear Regression"
   ]
  },
  {
   "cell_type": "code",
   "execution_count": 5,
   "metadata": {},
   "outputs": [],
   "source": [
    "def predict(X, coefficients):\n",
    "    # Thêm cột 1 vào ma trận X để tính toán hệ số tự do\n",
    "    X = np.hstack((np.ones((X.shape[0], 1)), X))\n",
    "\n",
    "    # Tính toán giá trị dự đoán\n",
    "    y_pred = np.dot(X, coefficients)\n",
    "\n",
    "    return y_pred"
   ]
  },
  {
   "cell_type": "code",
   "execution_count": 6,
   "metadata": {},
   "outputs": [],
   "source": [
    "def model(X, y):\n",
    "    n_samples, n_features = X.shape\n",
    "\n",
    "    # Tạo ma trận thiết kế (design matrix)\n",
    "    X = np.hstack((np.ones((n_samples, 1)), X))  # Thêm cột 1 cho hệ số tự do\n",
    "\n",
    "    # Giải hệ phương trình tuyến tính bằng phương pháp bình phương nhỏ nhất\n",
    "    coefficients = np.linalg.lstsq(X, y, rcond=None)[0]\n",
    "\n",
    "    return coefficients"
   ]
  },
  {
   "cell_type": "markdown",
   "metadata": {},
   "source": [
    "Cutoff Point"
   ]
  },
  {
   "cell_type": "code",
   "execution_count": 7,
   "metadata": {},
   "outputs": [
    {
     "name": "stdout",
     "output_type": "stream",
     "text": [
      "Các hệ số: \n",
      " [[-6.14445636e+00]\n",
      " [-9.79939969e-02]\n",
      " [ 1.32427232e-01]\n",
      " [ 1.06244479e+00]\n",
      " [-8.23056244e-01]\n",
      " [ 6.26427869e-03]\n",
      " [ 1.47865935e-03]\n",
      " [ 3.22049137e-03]\n",
      " [-5.99640524e-03]\n",
      " [ 1.35911172e-01]\n",
      " [ 3.15872636e-01]\n",
      " [-3.19170602e-02]\n",
      " [-3.50148859e-01]\n",
      " [-3.29808829e-05]\n",
      " [ 1.84587097e-01]]\n",
      "Kết quả dự đoán trên tập huấn luyện: \n",
      " [[0.80979811]\n",
      " [0.80751999]\n",
      " [0.6663024 ]\n",
      " ...\n",
      " [0.17612319]\n",
      " [0.18024535]\n",
      " [0.17204585]]\n"
     ]
    }
   ],
   "source": [
    "# Tìm các hệ số\n",
    "coefficients = model(X_train, Y_train)\n",
    "print(\"Các hệ số: \\n\",coefficients)\n",
    "\n",
    "# Dự đoán kết quả trên tập huấn luyện\n",
    "y_pred_train = predict(X_train, coefficients)\n",
    "print(\"Kết quả dự đoán trên tập huấn luyện: \\n\", y_pred_train)"
   ]
  },
  {
   "cell_type": "code",
   "execution_count": 8,
   "metadata": {},
   "outputs": [
    {
     "data": {
      "text/plain": [
       "array([0, 1, 2, 3])"
      ]
     },
     "execution_count": 8,
     "metadata": {},
     "output_type": "execute_result"
    }
   ],
   "source": [
    "classes = np.unique(Y_train)\n",
    "classes"
   ]
  },
  {
   "cell_type": "code",
   "execution_count": 9,
   "metadata": {},
   "outputs": [
    {
     "name": "stdout",
     "output_type": "stream",
     "text": [
      "Chỉ số means: \n",
      " [0.03376974 1.01486108 2.00583066 2.5680943 ]\n",
      "Ngưỡng phân lớp cutoffs: \n",
      " [0.08513815 1.60197053 2.28844547]\n"
     ]
    }
   ],
   "source": [
    "means = [y_pred_train[(Y_train == i)].mean() for i in range(len(classes))]\n",
    "n_samples = [np.sum(Y_train == i) for i in range(len(classes))]\n",
    "cutoffs = [(means[i]*n_samples[i] + means[i+1]*n_samples[i+1]) / (n_samples[i] + n_samples[i+1])\\\n",
    "            for i in range(len(classes)-1)]\n",
    "\n",
    "means = np.array(means)\n",
    "cutoffs = np.array(cutoffs)\n",
    "\n",
    "print(\"Chỉ số means: \\n\",means)\n",
    "print(\"Ngưỡng phân lớp cutoffs: \\n\",cutoffs)"
   ]
  },
  {
   "cell_type": "markdown",
   "metadata": {},
   "source": [
    "Classification"
   ]
  },
  {
   "cell_type": "code",
   "execution_count": 10,
   "metadata": {},
   "outputs": [
    {
     "name": "stdout",
     "output_type": "stream",
     "text": [
      "Kết quả dự đoán: \n",
      " [[2.98905811]\n",
      " [2.80554178]\n",
      " [2.83074116]\n",
      " [2.80198262]\n",
      " [2.88716723]\n",
      " [2.84433251]\n",
      " [1.50344164]\n",
      " [1.4662957 ]\n",
      " [1.44138955]\n",
      " [1.40755545]\n",
      " [1.33613143]\n",
      " [1.2711213 ]\n",
      " [1.2435074 ]\n",
      " [1.32404232]\n",
      " [1.31986369]\n",
      " [1.31587959]\n",
      " [1.32529894]\n",
      " [1.28286014]\n",
      " [1.26079933]\n",
      " [1.37899676]\n",
      " [1.3355761 ]\n",
      " [1.38973395]\n",
      " [1.45112417]\n",
      " [1.63032304]\n",
      " [1.52518382]\n",
      " [1.52356865]\n",
      " [1.81550856]\n",
      " [1.57912334]\n",
      " [1.77691973]\n",
      " [1.7521092 ]\n",
      " [1.79320507]\n",
      " [2.7159707 ]\n",
      " [4.08011765]\n",
      " [2.86982939]\n",
      " [2.98830061]\n",
      " [2.88839691]\n",
      " [3.06093536]\n",
      " [2.95333155]\n",
      " [2.97927654]\n",
      " [2.74552877]\n",
      " [2.72560613]\n",
      " [2.86814623]\n",
      " [2.66829871]\n",
      " [2.61502302]\n",
      " [2.63916883]\n",
      " [2.560154  ]\n",
      " [2.60073434]\n",
      " [2.6337952 ]\n",
      " [2.63267113]\n",
      " [2.66130259]\n",
      " [2.69267166]\n",
      " [2.60950736]\n",
      " [2.64709689]\n",
      " [2.50259987]\n",
      " [2.68290381]\n",
      " [2.58850772]\n",
      " [2.74824375]\n",
      " [2.76586066]\n",
      " [2.8387937 ]\n",
      " [2.83661852]\n",
      " [2.9916601 ]\n",
      " [2.86898319]\n",
      " [2.94758667]\n",
      " [2.96214564]\n",
      " [2.99770016]\n",
      " [3.01832222]\n",
      " [2.90046508]\n",
      " [2.99474707]\n",
      " [3.00308159]\n",
      " [2.90777718]\n",
      " [2.83201449]\n",
      " [3.02455472]\n",
      " [2.90517973]\n",
      " [2.85896168]\n",
      " [2.81254711]\n",
      " [2.79504397]\n",
      " [2.34914474]\n",
      " [2.43966087]\n",
      " [2.27749659]\n",
      " [2.19637876]\n",
      " [2.27104777]\n",
      " [2.12942263]\n",
      " [2.23308088]\n",
      " [2.18691831]\n",
      " [2.27452163]\n",
      " [2.64646954]\n",
      " [2.5052276 ]\n",
      " [2.34465893]\n",
      " [2.32263745]\n",
      " [2.37594549]\n",
      " [2.52066416]\n",
      " [2.15369491]\n",
      " [2.1517634 ]\n",
      " [2.19205299]\n",
      " [2.25789687]\n",
      " [2.25879158]\n",
      " [2.22894602]\n",
      " [2.33203691]\n",
      " [2.21808952]\n",
      " [2.16688613]\n",
      " [2.11323999]\n",
      " [1.92534996]\n",
      " [2.22461375]\n",
      " [2.19980212]\n",
      " [1.97839868]\n",
      " [2.00090332]\n",
      " [1.81879946]\n",
      " [1.94760621]\n",
      " [1.99855069]\n",
      " [1.91149871]\n",
      " [2.15738298]\n",
      " [1.98065159]\n",
      " [0.76751142]\n",
      " [1.00361032]\n",
      " [0.8363487 ]\n",
      " [0.79893408]\n",
      " [0.99542264]\n",
      " [2.26581136]\n",
      " [2.58183158]\n",
      " [2.33757419]\n",
      " [1.72442019]\n",
      " [0.78889309]\n",
      " [0.79910201]\n",
      " [0.80951062]\n",
      " [0.87641375]\n",
      " [0.88617483]\n",
      " [0.9370545 ]\n",
      " [0.85857482]\n",
      " [0.82955991]\n",
      " [0.79396891]\n",
      " [0.78494762]]\n"
     ]
    }
   ],
   "source": [
    "# Dự đoán giá trị dựa vào tập kiểm thử\n",
    "y_pred = predict(X_test, coefficients)\n",
    "print(\"Kết quả dự đoán: \\n\",y_pred)"
   ]
  },
  {
   "cell_type": "code",
   "execution_count": 11,
   "metadata": {},
   "outputs": [],
   "source": [
    "Y_test = Y_test.ravel()\n",
    "y_pred = y_pred.ravel()"
   ]
  },
  {
   "cell_type": "code",
   "execution_count": 12,
   "metadata": {},
   "outputs": [
    {
     "name": "stdout",
     "output_type": "stream",
     "text": [
      "Kết quả dự đoán sau khi phân lớp: \n",
      " [2 2 2 2 2 2 1 1 1 1 1 1 1 1 1 1 1 1 1 1 1 1 1 2 1 1 2 1 2 2 2 2 2 2 2 2 2\n",
      " 2 2 2 2 2 2 2 2 2 2 2 2 2 2 2 2 2 2 2 2 2 2 2 2 2 2 2 2 2 2 2 2 2 2 2 2 2\n",
      " 2 2 2 2 2 2 2 2 2 2 2 2 2 2 2 2 2 2 2 2 2 2 2 2 2 2 2 2 2 2 2 2 2 2 2 2 2\n",
      " 2 1 1 1 1 1 2 2 2 2 1 1 1 1 1 1 1 1 1 1]\n"
     ]
    }
   ],
   "source": [
    "y_pred = np.where(y_pred < cutoffs[0], 0, np.where(y_pred < cutoffs[1], 1, 2))\n",
    "print(\"Kết quả dự đoán sau khi phân lớp: \\n\",y_pred)"
   ]
  },
  {
   "cell_type": "markdown",
   "metadata": {},
   "source": [
    "Evaluation"
   ]
  },
  {
   "cell_type": "code",
   "execution_count": 13,
   "metadata": {},
   "outputs": [],
   "source": [
    "def my_confusion_matrix(y_true, y_pred):\n",
    "    N = np.unique(y_true).shape[0] # number of classes \n",
    "    cm = np.zeros((N, N))\n",
    "    for n in range(y_true.shape[0]):\n",
    "        cm[y_true[n], y_pred[n]] += 1\n",
    "    return cm "
   ]
  },
  {
   "cell_type": "code",
   "execution_count": 14,
   "metadata": {},
   "outputs": [
    {
     "name": "stdout",
     "output_type": "stream",
     "text": [
      "Thời gian chạy:  0.002000093460083008\n"
     ]
    }
   ],
   "source": [
    "start_time = time.time()\n",
    "# Tính confusion matrix\n",
    "confusion_matrix = my_confusion_matrix(Y_test, y_pred)\n",
    "\n",
    "# Tính accuracy và error rate\n",
    "accuracy = np.diagonal(confusion_matrix).sum()/confusion_matrix.sum()   \n",
    "error_rate = 1 - accuracy\n",
    "\n",
    "# Tính precision, recall, specificity, f1-score \n",
    "N = confusion_matrix.shape[0] # Số lượng lớp\n",
    "   \n",
    "total_samples = np.sum(confusion_matrix) # Tính tổng số mẫu\n",
    "\n",
    "# Khởi tạo các mảng để lưu các chỉ số của từng lớp\n",
    "precision = []\n",
    "recall = []\n",
    "specificity = []\n",
    "f_score = []\n",
    "\n",
    "for i in range(N):\n",
    "    # TP, FP, FN, TN cho lớp i\n",
    "    TP = confusion_matrix[i, i]\n",
    "    FP = sum(confusion_matrix[j, i] for j in range(N) if j != i)\n",
    "    FN = sum(confusion_matrix[i, j] for j in range(N) if j != i)\n",
    "    TN = total_samples - (TP + FP + FN)\n",
    "    \n",
    "    # Precision, Recall, Specificity, F1-score cho lớp i\n",
    "    precision_i = TP / (TP + FP) if (TP + FP) > 0 else 0\n",
    "    recall_i = TP / (TP + FN) if (TP + FN) > 0 else 0\n",
    "    specificity_i = TN / (TN + FP) if (TN + FP) > 0 else 0\n",
    "    f_score_i = 2 * (precision_i * recall_i) / (precision_i + recall_i) if (precision_i + recall_i) > 0 else 0\n",
    "\n",
    "    # Thêm vào danh sách\n",
    "    precision.append(precision_i)\n",
    "    recall.append(recall_i)\n",
    "    specificity.append(specificity_i)\n",
    "    f_score.append(f_score_i)\n",
    "end_time = time.time()\n",
    "time_manual = end_time - start_time\n",
    "print(\"Thời gian chạy: \", time_manual)\n"
   ]
  },
  {
   "cell_type": "code",
   "execution_count": 15,
   "metadata": {},
   "outputs": [
    {
     "name": "stdout",
     "output_type": "stream",
     "text": [
      "Confusion matrix:\n",
      "[[ 0. 10.  1.  0.]\n",
      " [ 0.  5.  0.  0.]\n",
      " [ 0.  0. 88.  0.]\n",
      " [ 0. 20.  7.  0.]]\n",
      "Specificity \t: [1.         0.76190476 0.81395349 1.        ]\n",
      "Accuracy\t: 0.7099236641221374\n",
      "Error rate\t: 0.29007633587786263\n",
      "Precision\t: [0.         0.14285714 0.91666667 0.        ]\n",
      "Recall\t\t: [0. 1. 1. 0.]\n",
      "F-score \t: [0.         0.25       0.95652174 0.        ]\n"
     ]
    }
   ],
   "source": [
    "# In kết quả\n",
    "print('Confusion matrix:')\n",
    "print(confusion_matrix)\n",
    "print(\"Specificity \\t:\",np.array(specificity))\n",
    "\n",
    "print('Accuracy\\t:', accuracy)\n",
    "print('Error rate\\t:', error_rate)\n",
    "print(\"Precision\\t:\",np.array(precision))\n",
    "print(\"Recall\\t\\t:\",np.array(recall))\n",
    "print(\"F-score \\t:\",np.array(f_score))"
   ]
  },
  {
   "cell_type": "code",
   "execution_count": 16,
   "metadata": {},
   "outputs": [
    {
     "data": {
      "image/png": "[encoded data removed]",
      "text/plain": [
       "<Figure size 1000x600 with 1 Axes>"
      ]
     },
     "metadata": {},
     "output_type": "display_data"
    }
   ],
   "source": [
    "import matplotlib.pyplot as plt\n",
    "# Chuẩn bị dữ liệu để vẽ\n",
    "metrics = ['Accuracy', 'Error Rate', 'Precision', 'Recall', 'Specificity', 'F-score']\n",
    "values = [\n",
    "    accuracy,\n",
    "    error_rate,\n",
    "    np.mean(precision),\n",
    "    np.mean(recall),\n",
    "    np.mean(specificity),\n",
    "    np.mean(f_score)\n",
    "]\n",
    "\n",
    "# Vẽ biểu đồ\n",
    "plt.figure(figsize=(10, 6))\n",
    "bars = plt.bar(metrics, values, color=['blue', 'orange', 'green', 'red', 'purple', 'cyan'])\n",
    "\n",
    "# Hiển thị giá trị trên các thanh\n",
    "for bar in bars:\n",
    "    yval = bar.get_height()\n",
    "    plt.text(bar.get_x() + bar.get_width()/2, yval + 0.01, f'{yval:.2f}', ha='center', va='bottom')\n",
    "\n",
    "# Cài đặt biểu đồ\n",
    "plt.title(\"Metrics Overview\")\n",
    "plt.ylabel(\"Values\")\n",
    "plt.ylim(0, 1)  # Vì các giá trị từ 0 đến 1\n",
    "plt.grid(axis='y', linestyle='--', alpha=0.7)\n",
    "plt.show()"
   ]
  },
  {
   "cell_type": "code",
   "execution_count": 17,
   "metadata": {},
   "outputs": [],
   "source": [
    "import matplotlib.pyplot as plt"
   ]
  },
  {
   "cell_type": "markdown",
   "metadata": {},
   "source": [
    "Sklearn"
   ]
  },
  {
   "cell_type": "code",
   "execution_count": 18,
   "metadata": {},
   "outputs": [
    {
     "name": "stdout",
     "output_type": "stream",
     "text": [
      "Thời gian chạy:  0.0060939788818359375\n",
      "Confusion matrix:\n",
      "[[ 0 10  1  0]\n",
      " [ 0  5  0  0]\n",
      " [ 0  0 88  0]\n",
      " [ 0 20  7  0]]\n",
      "\n",
      "Accuracy\t: 0.7099236641221374\n",
      "Error-rate\t: 0.29007633587786263\n",
      "Precision\t: [0.         0.14285714 0.91666667 0.        ]\n",
      "Recall\t\t: [0. 1. 1. 0.]\n",
      "F-score\t\t: [0.         0.25       0.95652174 0.        ]\n"
     ]
    },
    {
     "name": "stderr",
     "output_type": "stream",
     "text": [
      "c:\\Users\\MSI\\AppData\\Local\\Programs\\Python\\Python312\\Lib\\site-packages\\sklearn\\metrics\\_classification.py:1531: UndefinedMetricWarning: Precision is ill-defined and being set to 0.0 in labels with no predicted samples. Use `zero_division` parameter to control this behavior.\n",
      "  _warn_prf(average, modifier, f\"{metric.capitalize()} is\", len(result))\n"
     ]
    }
   ],
   "source": [
    "from sklearn.metrics import confusion_matrix\n",
    "from sklearn.metrics import accuracy_score,precision_score, recall_score ,f1_score\n",
    "\n",
    "start_time = time.time()\n",
    "confusion_matrix = confusion_matrix(Y_test, y_pred)\n",
    "accuracy_lib = accuracy_score(Y_test, y_pred)\n",
    "error_rate_lib = 1 - accuracy\n",
    "precision_score_lib = precision_score(Y_test, y_pred, average=None)\n",
    "recall_score_lib = recall_score(Y_test, y_pred, average=None)\n",
    "\n",
    "end_time = time.time()\n",
    "f_score_lib = f1_score(Y_test, y_pred, average=None)\n",
    "time_sklearn= end_time - start_time\n",
    "print(\"Thời gian chạy: \",time_sklearn)\n",
    "\n",
    "# In kết quả\n",
    "print('Confusion matrix:')\n",
    "print(confusion_matrix)\n",
    "\n",
    "print('\\nAccuracy\\t:', accuracy_lib)\n",
    "print('Error-rate\\t:', error_rate_lib)\n",
    "print('Precision\\t:', precision_score_lib)\n",
    "print('Recall\\t\\t:', recall_score_lib)\n",
    "print('F-score\\t\\t:', f_score_lib)"
   ]
  },
  {
   "cell_type": "code",
   "execution_count": 19,
   "metadata": {},
   "outputs": [],
   "source": [
    "import matplotlib.pyplot as plt"
   ]
  },
  {
   "cell_type": "code",
   "execution_count": 20,
   "metadata": {},
   "outputs": [
    {
     "data": {
      "image/png": "[encoded data removed]",
      "text/plain": [
       "<Figure size 800x500 with 1 Axes>"
      ]
     },
     "metadata": {},
     "output_type": "display_data"
    }
   ],
   "source": [
    "# Tạo dữ liệu cho biểu đồ\n",
    "scores = [time_manual, time_sklearn]\n",
    "labels = ['Manual time', 'Sklearn time']# Vẽ biểu đồ cột\n",
    "\n",
    "plt.figure(figsize=(8, 5))\n",
    "plt.bar(labels, scores, color=['blue', 'green'])\n",
    "plt.ylabel('Time (s)')\n",
    "plt.title('So sánh thời gian thực thi giữa Manual và Sklearn')\n",
    "\n",
    "# Hiển thị giá trị trên mỗi cột\n",
    "for i, v in enumerate(scores):\n",
    "    plt.text(i, v + 0.0001, f\"{v:.2f}\", ha='center', fontweight='bold')\n",
    "\n",
    "plt.show()"
   ]
  },
  {
   "cell_type": "code",
   "execution_count": 21,
   "metadata": {},
   "outputs": [],
   "source": [
    "group1_values = [\n",
    "    accuracy,\n",
    "    error_rate,\n",
    "    np.mean(precision),\n",
    "    np.mean(recall),\n",
    "    np.mean(f_score)\n",
    "]\n",
    "\n",
    "group2_values = [\n",
    "    accuracy_lib,\n",
    "    error_rate_lib,\n",
    "    np.mean(precision_score_lib),\n",
    "    np.mean(recall_score_lib),\n",
    "    np.mean(f_score_lib)\n",
    "]"
   ]
  },
  {
   "cell_type": "code",
   "execution_count": 22,
   "metadata": {},
   "outputs": [
    {
     "data": {
      "image/png": "[encoded data removed]",
      "text/plain": [
       "<Figure size 1000x500 with 1 Axes>"
      ]
     },
     "metadata": {},
     "output_type": "display_data"
    }
   ],
   "source": [
    "# Tổng hợp dữ liệu để vẽ\n",
    "metrics = ['Accuracy', 'Error Rate', 'Precision', 'Recall', 'F-score']\n",
    "# Vẽ biểu đồ\n",
    "x = np.arange(len(metrics))  # Vị trí trên trục x\n",
    "bar_width = 0.35  # Độ rộng của từng cột\n",
    "\n",
    "plt.figure(figsize=(10, 5))\n",
    "\n",
    "# Vẽ các cột cho nhóm 1\n",
    "plt.bar(x - bar_width/2, group1_values, bar_width, label='Custom', color='blue')\n",
    "\n",
    "# Vẽ các cột cho nhóm 2\n",
    "plt.bar(x + bar_width/2, group2_values, bar_width, label='Sklearn', color='green')\n",
    "\n",
    "# Cài đặt biểu đồ\n",
    "plt.xlabel('Metrics')\n",
    "plt.ylabel('Values')\n",
    "plt.title('Comparison of Metrics Between Custom and Sklearn')\n",
    "plt.xticks(x, metrics)  # Gắn nhãn trục x\n",
    "plt.ylim(0, 1)  # Giới hạn từ 0 đến 1 vì các giá trị đều trong khoảng này\n",
    "plt.legend()\n",
    "plt.grid(axis='y', linestyle='--', alpha=0.7)\n",
    "\n",
    "# Hiển thị biểu đồ\n",
    "plt.show()"
   ]
  }
 ],
 "metadata": {
  "kernelspec": {
   "display_name": "Python 3",
   "language": "python",
   "name": "python3"
  },
  "language_info": {
   "codemirror_mode": {
    "name": "ipython",
    "version": 3
   },
   "file_extension": ".py",
   "mimetype": "text/x-python",
   "name": "python",
   "nbconvert_exporter": "python",
   "pygments_lexer": "ipython3",
   "version": "3.12.6"
  }
 },
 "nbformat": 4,
 "nbformat_minor": 2
}
